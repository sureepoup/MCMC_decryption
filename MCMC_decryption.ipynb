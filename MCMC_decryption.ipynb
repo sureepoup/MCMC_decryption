{
 "nbformat": 4,
 "nbformat_minor": 0,
 "metadata": {
  "colab": {
   "name": "MCMC_decryption.ipynb",
   "provenance": [],
   "collapsed_sections": [],
   "toc_visible": true
  },
  "kernelspec": {
   "name": "python3",
   "language": "python",
   "display_name": "Python 3"
  }
 },
 "cells": [
  {
   "cell_type": "code",
   "metadata": {
    "colab": {
     "base_uri": "https://localhost:8080/"
    },
    "id": "9b9cD_jMwJmK",
    "outputId": "9e51bf55-57d9-452d-e7e6-6fc8ca98c40b"
   },
   "source": [
    "from google.colab import drive\n",
    "drive.mount('/content/drive/')"
   ],
   "execution_count": 38,
   "outputs": [
    {
     "output_type": "stream",
     "text": [
      "Drive already mounted at /content/drive/; to attempt to forcibly remount, call drive.mount(\"/content/drive/\", force_remount=True).\n"
     ],
     "name": "stdout"
    }
   ]
  },
  {
   "cell_type": "code",
   "metadata": {
    "id": "EbJ8SHiBpnK8"
   },
   "source": [
    "a_cyrillic = ord('а')\n",
    "alphabet_list = ''.join([chr(i).upper() for i in range(a_cyrillic,a_cyrillic+6)] + [chr(a_cyrillic+33)] + [chr(i) for i in range(a_cyrillic+6,a_cyrillic+32)])\n",
    "alphabet_list = alphabet_list.upper()"
   ],
   "execution_count": 39,
   "outputs": []
  },
  {
   "cell_type": "code",
   "metadata": {
    "id": "c-TxsSUSGjPP"
   },
   "source": [
    "# AIM: To Decrypt a text using MCMC approach. i.e. find decryption key which we will call cipher from now on.\n",
    "import string\n",
    "import math\n",
    "import random\n",
    "\n",
    "# This function takes as input a decryption key and creates a dict for key where each letter in the decryption key\n",
    "# maps to a alphabet For example if the decryption key is \"ПНСЕО....\" this function will create a dict like {П:А,Н:Б,С:В....}\n",
    "def create_cipher_dict(cipher):\n",
    "    cipher_dict = {}\n",
    "    # alphabet_list = list(string.ascii_uppercase)\n",
    "    for i in range(len(cipher)):\n",
    "        cipher_dict[alphabet_list[i]] = cipher[i]\n",
    "    return cipher_dict\n",
    "\n",
    "# This function takes a text and applies the cipher/key on the text and returns text.\n",
    "def apply_cipher_on_text(text,cipher):\n",
    "    cipher_dict = create_cipher_dict(cipher) \n",
    "    text = list(text)\n",
    "    newtext = \"\"\n",
    "    for elem in text:\n",
    "        if elem.upper() in cipher_dict:\n",
    "            newtext+=cipher_dict[elem.upper()]\n",
    "        else:\n",
    "            newtext+=\" \"\n",
    "    return newtext\n",
    "\n",
    "# This function takes as input a path to a long text and creates scoring_params dict which contains the \n",
    "# number of time each pair of alphabet appears together\n",
    "# Ex. {'AБ':234,'КЛ':2343,'ЖЗ':23 ..}\n",
    "def create_scoring_params_dict(longtext_path):\n",
    "    scoring_params = {}\n",
    "    # alphabet_list = list(string.ascii_uppercase)\n",
    "    with open(longtext_path) as fp:\n",
    "        for line in fp:\n",
    "            data = list(line.strip())\n",
    "            for i in range(len(data)-1):\n",
    "                alpha_i = data[i].upper()\n",
    "                alpha_j = data[i+1].upper()\n",
    "                if alpha_i not in alphabet_list and alpha_i != \" \":\n",
    "                    alpha_i = \" \"\n",
    "                if alpha_j not in alphabet_list and alpha_j != \" \":\n",
    "                    alpha_j = \" \"\n",
    "                key = alpha_i+alpha_j\n",
    "                if key in scoring_params:\n",
    "                    scoring_params[key]+=1\n",
    "                else:\n",
    "                    scoring_params[key]=1\n",
    "    return scoring_params\n",
    "\n",
    "# This function takes as input a path to a long text and creates scoring_params dict which contains the \n",
    "# normalized number of time each pair of alphabet appears together\n",
    "def create_normalized_scoring_params_dict(longtext_path):\n",
    "    scoring_params = {}\n",
    "    # alphabet_list = list(string.ascii_uppercase)\n",
    "    with open(longtext_path) as fp:\n",
    "        # text_len = \n",
    "        for line in fp:\n",
    "            data = list(line.strip())\n",
    "            for i in range(len(data)-1):\n",
    "                alpha_i = data[i].upper()\n",
    "                alpha_j = data[i+1].upper()\n",
    "                if alpha_i not in alphabet_list and alpha_i != \" \":\n",
    "                    alpha_i = \" \"\n",
    "                if alpha_j not in alphabet_list and alpha_j != \" \":\n",
    "                    alpha_j = \" \"\n",
    "                key = alpha_i+alpha_j\n",
    "                if key in scoring_params:\n",
    "                    scoring_params[key]+=1\n",
    "                else:\n",
    "                    scoring_params[key]=1\n",
    "    # normalization\n",
    "    appearance_num = scoring_params.values()\n",
    "    total_appearance_num = sum(appearance_num)\n",
    "    scoring_params = {k: v / total_appearance_num for k, v in scoring_params.items()}\n",
    "    return scoring_params\n",
    "\n",
    "# This function takes as input a text and creates scoring_params dict which contains the \n",
    "# number of time each pair of alphabet appears together\n",
    "# Ex. {'АБ':234,'КЛ':2343,'ЖЗ':23 ..}\n",
    "def score_params_on_cipher(text):\n",
    "    scoring_params = {}\n",
    "    # alphabet_list = list(string.ascii_uppercase)\n",
    "    data = list(text.strip())\n",
    "    for i in range(len(data)-1):\n",
    "        alpha_i =data[i].upper()\n",
    "        alpha_j = data[i+1].upper()\n",
    "        if alpha_i not in alphabet_list and alpha_i != \" \":\n",
    "            alpha_i = \" \"\n",
    "        if alpha_j not in alphabet_list and alpha_j != \" \":\n",
    "            alpha_j = \" \"\n",
    "        key = alpha_i+alpha_j\n",
    "        if key in scoring_params:\n",
    "            scoring_params[key]+=1\n",
    "        else:\n",
    "            scoring_params[key]=1\n",
    "    return scoring_params\n",
    "\n",
    "# This function takes the text to be decrypted and a cipher to score the cipher.\n",
    "# This function returns the log(score) metric\n",
    "def get_cipher_score(text,cipher,scoring_params):\n",
    "    cipher_dict = create_cipher_dict(cipher)\n",
    "    decrypted_text = apply_cipher_on_text(text,cipher)\n",
    "    scored_f = score_params_on_cipher(decrypted_text)\n",
    "    cipher_score = 0\n",
    "    for k,v in scored_f.items():\n",
    "        if k in scoring_params:\n",
    "            cipher_score += v*math.log(scoring_params[k])\n",
    "    return cipher_score"
   ],
   "execution_count": 40,
   "outputs": []
  },
  {
   "cell_type": "code",
   "metadata": {
    "id": "n9hCWlTVGjPR"
   },
   "source": [
    "# Generate a proposal cipher by swapping letters at two random location\n",
    "def generate_cipher(cipher):\n",
    "    pos1 = random.randint(0, len(list(cipher))-1)\n",
    "    pos2 = random.randint(0, len(list(cipher))-1)\n",
    "    if pos1 == pos2:\n",
    "        return generate_cipher(cipher)\n",
    "    else:\n",
    "        cipher = list(cipher)\n",
    "        pos1_alpha = cipher[pos1]\n",
    "        pos2_alpha = cipher[pos2]\n",
    "        cipher[pos1] = pos2_alpha\n",
    "        cipher[pos2] = pos1_alpha\n",
    "        return \"\".join(cipher)\n",
    "\n",
    "# Toss a random coin with probability of head p. If coin comes head return true else false.\n",
    "def random_coin(p):\n",
    "    unif = random.uniform(0,1)\n",
    "    if unif>=p:\n",
    "        return False\n",
    "    else:\n",
    "        return True"
   ],
   "execution_count": 41,
   "outputs": []
  },
  {
   "cell_type": "code",
   "metadata": {
    "id": "P5uPVBKzGjPT"
   },
   "source": [
    "# Takes as input a text to decrypt and runs a MCMC algorithm for n_iter. Returns the state having maximum score and also\n",
    "# the last few states \n",
    "def MCMC_decrypt(n_iter,cipher_text,scoring_params):\n",
    "    # current_cipher = string.ascii_uppercase # Generate a random cipher to start\n",
    "    current_cipher = alphabet_list\n",
    "    state_keeper = set()\n",
    "    best_state = ''\n",
    "    score = 0\n",
    "    for i in range(n_iter):\n",
    "        state_keeper.add(current_cipher)\n",
    "        proposed_cipher = generate_cipher(current_cipher)\n",
    "        score_current_cipher = get_cipher_score(cipher_text,current_cipher,scoring_params)\n",
    "        score_proposed_cipher = get_cipher_score(cipher_text,proposed_cipher,scoring_params)\n",
    "        acceptance_probability = min(1,math.exp(score_proposed_cipher-score_current_cipher))\n",
    "        if score_current_cipher>score:\n",
    "            best_state = current_cipher\n",
    "        if random_coin(acceptance_probability):\n",
    "            current_cipher = proposed_cipher\n",
    "        if i%500==0:\n",
    "            print(\"iter\",i,\":\",apply_cipher_on_text(cipher_text,current_cipher)[0:99])\n",
    "    return state_keeper,best_state"
   ],
   "execution_count": 42,
   "outputs": []
  },
  {
   "cell_type": "code",
   "metadata": {
    "id": "5qL6uP82GjPU",
    "colab": {
     "base_uri": "https://localhost:8080/"
    },
    "pycharm": {
     "name": "#%%\n"
    },
    "outputId": "9a97f4da-47a2-44c9-ac11-6b8a9ced2e0e"
   },
   "source": [
    "## Run the Main Program:\n",
    "path_to_language_corpus_fold = '/content/drive/My Drive/Magistracy_SPbU/3_semester/Machine_Learning/MCMC/MCMC_decryption/'\n",
    "scoring_params = create_scoring_params_dict(path_to_language_corpus_fold + 'war_and_peace_ru.txt')\n",
    "\n",
    "'''\n",
    "plain_text = \"As Oliver gave this first proof of the free and proper action of his lungs, \\\n",
    "the patchwork coverlet which was carelessly flung over the iron bedstead, rustled; \\\n",
    "the pale face of a young woman was raised feebly from the pillow; and a faint voice imperfectly \\\n",
    "articulated the words, Let me see the child, and die. \\\n",
    "The surgeon had been sitting with his face turned towards the fire: giving the palms of his hands a warm \\\n",
    "and a rub alternately. As the young woman spoke, he rose, and advancing to the bed's head, said, with more kindness \\\n",
    "than might have been expected of him: \"\n",
    "\n",
    "encryption_key = \"XEBPROHYAUFTIDSJLKZMWVNGQC\"\n",
    "cipher_text = apply_cipher_on_text(plain_text,encryption_key)\n",
    "decryption_key = \"ICZNBKXGMPRQTWFDYEOLJVUAHS\"\n",
    "'''\n",
    "\n",
    "# decryption_key = \"ICZNBKXGMPRQTWFDYEOLJVUAHS\"\n",
    "\n",
    "cipher_text = \"щдшэсздбгдтиылъирдвсдпирвясндждягфгдогъзд бгдсынъьисздегясздргсдовяг биъьисзднтдбнёдщдыифвсиадшсвдсвдтиыифислоиадмвжэмиадориъгаджижд \\\n",
    "бгдмыгъясиорщрвяздбгжвсвывцдявфясогббвясзадндодыгтэрзсисгддвънбдшг въибдмыншг дъвоврзбвдяжыв бвхвдыит гыидолёвънсдщдбнюнцджиждпгдусвдмврэшнрвяз\"\n",
    "\n",
    "print(\"Text To Decode:\", cipher_text)\n",
    "print(\"\\n\")\n",
    "states,best_state = MCMC_decrypt(10000,cipher_text,scoring_params)\n",
    "print(\"\\n\")\n",
    "print(\"Decoded Text:\",apply_cipher_on_text(cipher_text,best_state))\n",
    "print(\"\\n\")\n",
    "print(\"MCMC KEY FOUND:\",best_state)\n",
    "# print(\"ACTUAL DECRYPTION KEY:\",decryption_key)"
   ],
   "execution_count": 43,
   "outputs": [
    {
     "output_type": "stream",
     "text": [
      "Text To Decode: щдшэсздбгдтиылъирдвсдпирвясндждягфгдогъзд бгдсынъьисздегясздргсдовяг биъьисзднтдбнёдщдыифвсиадшсвдсвдтиыифислоиадмвжэмиадориъгаджижд бгдмыгъясиорщрвяздбгжвсвывцдявфясогббвясзадндодыгтэрзсисгддвънбдшг въибдмыншг дъвоврзбвдяжыв бвхвдыит гыидолёвънсдщдбнюнцджиждпгдусвдмврэшнрвяз\n",
      "\n",
      "\n",
      "iter 0 : ЩДШЭСЗДБГДТИЫЛЪИРДВСДПИРВЯСНДЖДЯГФГДОГЪЗД БГДСЫНЪЬИСЗДЕГЯСЗДРГСДОВЯГ БИЪЬИСЗДНТДБНЁДЩДЫИФВСИАДШСВДС\n",
      "iter 500 : ХСМЦЕЛСВОСШНИУТНАСРЕСЧНАРБЕЯСДСБОЫОСПОТЛС ВОСЕИЯТЬНЕЛСГОБЕЛСАОЕСПРБО ВНТЬНЕЛСЯШСВЯЖСХСИНЫРЕНЮСМЕРСЕ\n",
      "iter 1000 : ХСМЦОЛСПЕСЖНИБТНАСРОСЧНАРВОЯСДСВЕЫЕСУЕТЛС ПЕСОИЯТЬНОЛСШЕВОЛСАЕОСУРВЕ ПНТЬНОЛСЯЖСПЯГСХСИНЫРОНЮСМОРСО\n",
      "iter 1500 : ХСМШОЛСВЕСЮНИЗДНАСРОСЧНАРПОЯСУСПЕЫЕСТЕДЛС ВЕСОИЯДЖНОЛСЦЕПОЛСАЕОСТРПЕ ВНДЖНОЛСЯЮСВЯГСХСИНЫРОНЬСМОРСО\n",
      "iter 2000 : ХСМБОРСТЕСЮНИЗДНАСЛОСЧНАЛПОУСЯСПЕЫЕСВЕДРС ТЕСОИУДШНОРСЦЕПОРСАЕОСВЛПЕ ТНДШНОРСУЮСТУГСХСИНЫЛОНЬСМОЛСО\n",
      "iter 2500 : ХСМБОРСТЕСЮНИЗДНАСЛОСЧНАЛПОУСЯСПЕЫЕСВЕДРС ТЕСОИУДШНОРСЖЕПОРСАЕОСВЛПЕ ТНДШНОРСУЮСТУГСХСИНЫЛОНЬСМОЛСО\n",
      "iter 3000 : ХСМБОРСТЕСЮНИЗДНАСЛОСШНАЛПОУСЯСПЕЫЕСВЕДРС ТЕСОИУДЖНОРСЧЕПОРСАЕОСВЛПЕ ТНДЖНОРСУЮСТУГСХСИНЫЛОНЬСМОЛСО\n",
      "iter 3500 : ХСМБОРСТЕСЮНИЗДНАСЛОСШНАЛПОУСЯСПЕЫЕСВЕДРС ТЕСОИУДЖНОРСЧЕПОРСАЕОСВЛПЕ ТНДЖНОРСУЮСТУГСХСИНЫЛОНЬСМОЛСО\n",
      "iter 4000 : ХСМБОРСТЕСЮНИЗДНАСЛОСЧНАЛПОУСЯСПЕЫЕСВЕДРС ТЕСОИУДШНОРСЦЕПОРСАЕОСВЛПЕ ТНДШНОРСУЮСТУГСХСИНЫЛОНЬСМОЛСО\n",
      "iter 4500 : ХСМБОРСТЕСЮНИЗДНАСЛОСЧНАЛПОУСЯСПЕЫЕСВЕДРС ТЕСОИУДЖНОРСЦЕПОРСАЕОСВЛПЕ ТНДЖНОРСУЮСТУГСХСИНЫЛОНЬСМОЛСО\n",
      "iter 5000 : ХСМБОРСТЕСЮНИЗДНАСЛОСШНАЛПОУСЯСПЕЫЕСВЕДРС ТЕСОИУДЦНОРСЧЕПОРСАЕОСВЛПЕ ТНДЦНОРСУЮСТУГСХСИНЫЛОНЬСМОЛСО\n",
      "iter 5500 : ХСМБОРСТЕСЖНИЗДНАСЛОСШНАЛПОУСЬСПЕЫЕСВЕДРС ТЕСОИУДЦНОРСЧЕПОРСАЕОСВЛПЕ ТНДЦНОРСУЖСТУГСХСИНЫЛОНЯСМОЛСО\n",
      "iter 6000 : ХСМБОРСТЕСЖНИЗДНАСЛОСЦНАЛПОУСЬСПЕЫЕСВЕДРС ТЕСОИУДШНОРСЧЕПОРСАЕОСВЛПЕ ТНДШНОРСУЖСТУГСХСИНЫЛОНЯСМОЛСО\n",
      "iter 6500 : ХСМБОРСВЕСЖНИЗДНАСЛОСЧНАЛПОУСЯСПЕЫЕСТЕДРС ВЕСОИУДШНОРСФЕПОРСАЕОСТЛПЕ ВНДШНОРСУЖСВУГСХСИНЫЛОНЬСМОЛСО\n",
      "iter 7000 : ХСМЗОРСВЕСЖНТБДНАСЛОСЧНАЛПОУСЯСПЕЫЕСИЕДРС ВЕСОТУДШНОРСФЕПОРСАЕОСИЛПЕ ВНДШНОРСУЖСВУГСХСТНЫЛОНЬСМОЛСО\n",
      "iter 7500 : ХСМБОРСВЕСЗНТЖДНАСЛОСЧНАЛПОУСЯСПЕЫЕСИЕДРС ВЕСОТУДШНОРСЪЕПОРСАЕОСИЛПЕ ВНДШНОРСУЗСВУГСХСТНЫЛОНЬСМОЛСО\n",
      "iter 8000 : ХСМБОРСВЕСЖНТЗДНАСЛОСЧНАЛПОУСЯСПЕЫЕСИЕДРС ВЕСОТУДШНОРСЪЕПОРСАЕОСИЛПЕ ВНДШНОРСУЖСВУГСХСТНЫЛОНЬСМОЛСО\n",
      "iter 8500 : ХСМГОРСВЕСЗНТЖДНАСЛОСЧНАЛПОУСЯСПЕЫЕСИЕДРС ВЕСОТУДШНОРСЪЕПОРСАЕОСИЛПЕ ВНДШНОРСУЗСВУБСХСТНЫЛОНЬСМОЛСО\n",
      "iter 9000 : ХСМЗОРСВЕСГНТЖДНАСЛОСЧНАЛПОУСЯСПЕЫЕСИЕДРС ВЕСОТУДШНОРСЪЕПОРСАЕОСИЛПЕ ВНДШНОРСУГСВУБСХСТНЫЛОНЬСМОЛСО\n",
      "iter 9500 : ХСМБОРСВЕСЗНТЖДНАСЛОСЧНАЛПОУСЯСПЕЫЕСИЕДРС ВЕСОТУДШНОРСЪЕПОРСАЕОСИЛПЕ ВНДШНОРСУЗСВУГСХСТНЫЛОНЬСМОЛСО\n",
      "\n",
      "\n",
      "Decoded Text: ХСМБОРСВЕСЗНТЖДНАСЛОСЧНАЛПОУСЯСПЕЫЕСИЕДРС ВЕСОТУДШНОРСЪЕПОРСАЕОСИЛПЕ ВНДШНОРСУЗСВУГСХСТНЫЛОНЬСМОЛСОЛСЗНТНЫНОЖИНЬСКЛЯБКНЬСИАНДЕЬСЯНЯС ВЕСКТЕДПОНИАХАЛПРСВЕЯЛОЛТЛЮСПЛЫПОИЕВВЛПОРЬСУСИСТЕЗБАРОНОЕССЛДУВСМЕ ЛДНВСКТУМЕ СДЛИЛАРВЛСПЯТЛ ВЛФЛСТНЗ ЕТНСИЖГЛДУОСХСВУЩУЮСЯНЯСЧЕСЦОЛСКЛАБМУАЛПР\n",
      "\n",
      "\n",
      "MCMC KEY FOUND: ЬВЛЕСЪГЯРНЁЭЖКУИЧАОЗЦЫФЮЙМХДТШБЩП\n"
     ],
     "name": "stdout"
    }
   ]
  },
  {
   "cell_type": "code",
   "metadata": {
    "colab": {
     "base_uri": "https://localhost:8080/"
    },
    "id": "PobD_EGu_5Nz",
    "outputId": "b4852bdb-5c4f-495a-dea3-5d0839039b54"
   },
   "source": [
    "## Run the Main Program:\n",
    "path_to_language_corpus_fold = '/content/drive/My Drive/Magistracy_SPbU/3_semester/Machine_Learning/MCMC/MCMC_decryption/'\n",
    "scoring_params = create_normalized_scoring_params_dict(path_to_language_corpus_fold + 'war_and_peace_ru.txt')\n",
    "\n",
    "'''\n",
    "plain_text = \"As Oliver gave this first proof of the free and proper action of his lungs, \\\n",
    "the patchwork coverlet which was carelessly flung over the iron bedstead, rustled; \\\n",
    "the pale face of a young woman was raised feebly from the pillow; and a faint voice imperfectly \\\n",
    "articulated the words, Let me see the child, and die. \\\n",
    "The surgeon had been sitting with his face turned towards the fire: giving the palms of his hands a warm \\\n",
    "and a rub alternately. As the young woman spoke, he rose, and advancing to the bed's head, said, with more kindness \\\n",
    "than might have been expected of him: \"\n",
    "\n",
    "encryption_key = \"XEBPROHYAUFTIDSJLKZMWVNGQC\"\n",
    "cipher_text = apply_cipher_on_text(plain_text,encryption_key)\n",
    "decryption_key = \"ICZNBKXGMPRQTWFDYEOLJVUAHS\"\n",
    "'''\n",
    "\n",
    "# decryption_key = \"ICZNBKXGMPRQTWFDYEOLJVUAHS\"\n",
    "\n",
    "cipher_text = \"щдшэсздбгдтиылъирдвсдпирвясндждягфгдогъзд бгдсынъьисздегясздргсдовяг биъьисзднтдбнёдщдыифвсиадшсвдсвдтиыифислоиадмвжэмиадориъгаджижд \\\n",
    "бгдмыгъясиорщрвяздбгжвсвывцдявфясогббвясзадндодыгтэрзсисгддвънбдшг въибдмыншг дъвоврзбвдяжыв бвхвдыит гыидолёвънсдщдбнюнцджиждпгдусвдмврэшнрвяз\"\n",
    "\n",
    "print(\"Text To Decode:\", cipher_text)\n",
    "print(\"\\n\")\n",
    "states,best_state = MCMC_decrypt(10000,cipher_text,scoring_params)\n",
    "print(\"\\n\")\n",
    "print(\"Decoded Text:\",apply_cipher_on_text(cipher_text,best_state))\n",
    "print(\"\\n\")\n",
    "print(\"MCMC KEY FOUND:\",best_state)\n",
    "# print(\"ACTUAL DECRYPTION KEY:\",decryption_key)"
   ],
   "execution_count": 44,
   "outputs": [
    {
     "output_type": "stream",
     "text": [
      "Text To Decode: щдшэсздбгдтиылъирдвсдпирвясндждягфгдогъзд бгдсынъьисздегясздргсдовяг биъьисзднтдбнёдщдыифвсиадшсвдсвдтиыифислоиадмвжэмиадориъгаджижд бгдмыгъясиорщрвяздбгжвсвывцдявфясогббвясзадндодыгтэрзсисгддвънбдшг въибдмыншг дъвоврзбвдяжыв бвхвдыит гыидолёвънсдщдбнюнцджиждпгдусвдмврэшнрвяз\n",
      "\n",
      "\n",
      "iter 0 : ЩДШЭСЗДБГДТИЫЛЪИРДВСДПИРВЯСНДЖДЯГФГДОГЪЗД БГДСЫНЪЬИСЗДЕГЯСЗДРГСДОВЯГ БИЪЬИСЗДНТДБНЁДЩДЫИФВСИАДШСВДС\n",
      "iter 500 : СЙЛКЩЗЙЭЖЙЮЪЫЕФЪЦЙЁЩЙИЪЦЁХЩГЙПЙХЖЧЖЙЬЖФЗЙ ЭЖЙЩЫГФШЪЩЗЙРЖХЩЗЙЦЖЩЙЬЁХЖ ЭЪФШЪЩЗЙГЮЙЭГМЙСЙЫЪЧЁЩЪВЙЛЩЁЙЩ\n",
      "iter 1000 : ТЙАРЩЗЙПХЙЮЪЫГЭЪЦЙЁЩЙУЪЦЁЖЩВЙЬЙЖХЧХЙФХЭЗЙ ПХЙЩЫВЭИЪЩЗЙМХЖЩЗЙЦХЩЙФЁЖХ ПЪЭИЪЩЗЙВЮЙПВБЙТЙЫЪЧЁЩЪКЙАЩЁЙЩ\n",
      "iter 1500 : ДЙАРЩЗЙПХЙЯЪЫШЭЪЦЙЁЩЙИЪЦЁЖЩЮЙЬЙЖХЧХЙФХЭЗЙ ПХЙЩЫЮЭЕЪЩЗЙГХЖЩЗЙЦХЩЙФЁЖХ ПЪЭЕЪЩЗЙЮЯЙПЮБЙДЙЫЪЧЁЩЪКЙАЩЁЙЩ\n",
      "iter 2000 : СЙГРЩЗЙПХЙУЪЫШЭЪЦЙЁЩЙЯЪЦЁЖЩЮЙЬЙЖХЧХЙФХЭЗЙ ПХЙЩЫЮЭИЪЩЗЙМХЖЩЗЙЦХЩЙФЁЖХ ПЪЭИЪЩЗЙЮУЙПЮБЙСЙЫЪЧЁЩЪНЙГЩЁЙЩ\n",
      "iter 2500 : СЙГРЩЗЙПХЙУЪЫШЭЪЦЙЁЩЙЯЪЦЁЖЩЮЙЬЙЖХЧХЙФХЭЗЙ ПХЙЩЫЮЭОЪЩЗЙМХЖЩЗЙЦХЩЙФЁЖХ ПЪЭОЪЩЗЙЮУЙПЮБЙСЙЫЪЧЁЩЪКЙГЩЁЙЩ\n",
      "iter 3000 : СЙГРЩЗЙПХЙУЪЫШЭЪЦЙЁЩЙИЪЦЁЖЩЮЙЬЙЖХЧХЙФХЭЗЙ ПХЙЩЫЮЭЕЪЩЗЙМХЖЩЗЙЦХЩЙФЁЖХ ПЪЭЕЪЩЗЙЮУЙПЮБЙСЙЫЪЧЁЩЪКЙГЩЁЙЩ\n",
      "iter 3500 : СЙГРЩЗЙПХЙУЪЫШЭЪЦЙЁЩЙИЪЦЁЖЩЮЙЬЙЖХЧХЙФХЭЗЙ ПХЙЩЫЮЭЕЪЩЗЙМХЖЩЗЙЦХЩЙФЁЖХ ПЪЭЕЪЩЗЙЮУЙПЮБЙСЙЫЪЧЁЩЪКЙГЩЁЙЩ\n",
      "iter 4000 : СЙГРЩЗЙПХЙУЪЫШЭЪЦЙЁЩЙИЪЦЁЖЩЮЙЬЙЖХЧХЙФХЭЗЙ ПХЙЩЫЮЭОЪЩЗЙМХЖЩЗЙЦХЩЙФЁЖХ ПЪЭОЪЩЗЙЮУЙПЮБЙСЙЫЪЧЁЩЪКЙГЩЁЙЩ\n",
      "iter 4500 : СЙГРЩЗЙПХЙУЪЫШЭЪЦЙЁЩЙИЪЦЁЖЩЮЙЬЙЖХЧХЙФХЭЗЙ ПХЙЩЫЮЭОЪЩЗЙМХЖЩЗЙЦХЩЙФЁЖХ ПЪЭОЪЩЗЙЮУЙПЮБЙСЙЫЪЧЁЩЪКЙГЩЁЙЩ\n",
      "iter 5000 : ДЙГРЩЗЙПХЙЯЪЫШЭЪЦЙЁЩЙИЪЦЁЖЩЮЙЬЙЖХЧХЙФХЭЗЙ ПХЙЩЫЮЭЕЪЩЗЙМХЖЩЗЙЦХЩЙФЁЖХ ПЪЭЕЪЩЗЙЮЯЙПЮБЙДЙЫЪЧЁЩЪКЙГЩЁЙЩ\n",
      "iter 5500 : СЙГРЩЗЙПХЙУЪЫШЭЪЦЙЁЩЙИЪЦЁЖЩЮЙЬЙЖХЧХЙФХЭЗЙ ПХЙЩЫЮЭОЪЩЗЙМХЖЩЗЙЦХЩЙФЁЖХ ПЪЭОЪЩЗЙЮУЙПЮБЙСЙЫЪЧЁЩЪКЙГЩЁЙЩ\n",
      "iter 6000 : ДЙГРЩЗЙПХЙУЪЫШЭЪЦЙЁЩЙИЪЦЁЖЩЮЙЬЙЖХЧХЙФХЭЗЙ ПХЙЩЫЮЭЕЪЩЗЙМХЖЩЗЙЦХЩЙФЁЖХ ПЪЭЕЪЩЗЙЮУЙПЮБЙДЙЫЪЧЁЩЪКЙГЩЁЙЩ\n",
      "iter 6500 : ДЙГРЩЗЙПХЙУЪЫШЭЪЦЙЁЩЙИЪЦЁЖЩЮЙЬЙЖХЧХЙФХЭЗЙ ПХЙЩЫЮЭЕЪЩЗЙМХЖЩЗЙЦХЩЙФЁЖХ ПЪЭЕЪЩЗЙЮУЙПЮБЙДЙЫЪЧЁЩЪКЙГЩЁЙЩ\n",
      "iter 7000 : СЙГРЩЗЙПХЙУЪЫШЭЪЦЙЁЩЙИЪЦЁЖЩЮЙЬЙЖХЧХЙФХЭЗЙ ПХЙЩЫЮЭОЪЩЗЙМХЖЩЗЙЦХЩЙФЁЖХ ПЪЭОЪЩЗЙЮУЙПЮБЙСЙЫЪЧЁЩЪКЙГЩЁЙЩ\n",
      "iter 7500 : ДЙГРЩЗЙПХЙУЪЫШЭЪЦЙЁЩЙИЪЦЁЖЩЮЙЬЙЖХЧХЙФХЭЗЙ ПХЙЩЫЮЭОЪЩЗЙМХЖЩЗЙЦХЩЙФЁЖХ ПЪЭОЪЩЗЙЮУЙПЮБЙДЙЫЪЧЁЩЪКЙГЩЁЙЩ\n",
      "iter 8000 : ДЙГРЩЗЙПХЙЯЪЫШЭЪЦЙЁЩЙИЪЦЁЖЩЮЙЬЙЖХЧХЙФХЭЗЙ ПХЙЩЫЮЭОЪЩЗЙМХЖЩЗЙЦХЩЙФЁЖХ ПЪЭОЪЩЗЙЮЯЙПЮБЙДЙЫЪЧЁЩЪКЙГЩЁЙЩ\n",
      "iter 8500 : ДЙГРЩЗЙПХЙУЪЫШЭЪЦЙЁЩЙАЪЦЁЖЩЮЙЬЙЖХЧХЙФХЭЗЙ ПХЙЩЫЮЭЕЪЩЗЙМХЖЩЗЙЦХЩЙФЁЖХ ПЪЭЕЪЩЗЙЮУЙПЮБЙДЙЫЪЧЁЩЪКЙГЩЁЙЩ\n",
      "iter 9000 : ТЙГРЩЗЙПХЙУЪЫШЭЪЦЙЁЩЙИЪЦЁЖЩЮЙЬЙЖХЧХЙФХЭЗЙ ПХЙЩЫЮЭОЪЩЗЙМХЖЩЗЙЦХЩЙФЁЖХ ПЪЭОЪЩЗЙЮУЙПЮБЙТЙЫЪЧЁЩЪКЙГЩЁЙЩ\n",
      "iter 9500 : ЗЙГРЩТЙПХЙУЪЫШЭЪЦЙЁЩЙИЪЦЁЖЩЮЙЬЙЖХЧХЙФХЭТЙ ПХЙЩЫЮЭОЪЩТЙМХЖЩТЙЦХЩЙФЁЖХ ПЪЭОЪЩТЙЮУЙПЮБЙЗЙЫЪЧЁЩЪКЙГЩЁЙЩ\n",
      "\n",
      "\n",
      "Decoded Text:                                                                                                                                                                                                                                                                                     \n",
      "\n",
      "\n",
      "MCMC KEY FOUND: \n"
     ],
     "name": "stdout"
    }
   ]
  },
  {
   "cell_type": "code",
   "metadata": {
    "id": "21JlnzHWBurZ"
   },
   "source": [
    ""
   ],
   "execution_count": 44,
   "outputs": []
  }
 ]
}