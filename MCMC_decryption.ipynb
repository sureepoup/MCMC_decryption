{
 "nbformat": 4,
 "nbformat_minor": 0,
 "metadata": {
  "colab": {
   "name": "MCMC_decryption.ipynb",
   "provenance": [],
   "collapsed_sections": [
    "qC_2xcZAID33"
   ],
   "toc_visible": true
  },
  "kernelspec": {
   "name": "python3",
   "language": "python",
   "display_name": "Python 3"
  }
 },
 "cells": [
  {
   "cell_type": "markdown",
   "metadata": {
    "id": "WTFI18H6kj68"
   },
   "source": [
    "**The task**: to decrypt given message using MCMC approach. \n",
    "\n",
    "**Message**: \"щдшэсздбгдтиылъирдвсдпирвясндждягфгдогъзд бгдсынъьисздегясздргсдовяг биъьисзднтдбнёдщдыифвсиадшсвдсвдтиыифислоиадмвжэмиадориъгаджижд \\\n",
    "бгдмыгъясиорщрвяздбгжвсвывцдявфясогббвясзадндодыгтэрзсисгддвънбдшг въибдмыншг дъвоврзбвдяжыв бвхвдыит гыидолёвънсдщдбнюнцджиждпгдусвдмврэшнрвяз\""
   ]
  },
  {
   "cell_type": "markdown",
   "metadata": {
    "id": "nCnVsD4-YNx1"
   },
   "source": [
    "# Preparation"
   ]
  },
  {
   "cell_type": "code",
   "metadata": {
    "colab": {
     "base_uri": "https://localhost:8080/"
    },
    "id": "9b9cD_jMwJmK",
    "outputId": "876d0bbd-6d25-4c46-fb62-144ba9711bff"
   },
   "source": [
    "from google.colab import drive\n",
    "drive.mount('/content/drive/')"
   ],
   "execution_count": 80,
   "outputs": [
    {
     "output_type": "stream",
     "text": [
      "Drive already mounted at /content/drive/; to attempt to forcibly remount, call drive.mount(\"/content/drive/\", force_remount=True).\n"
     ],
     "name": "stdout"
    }
   ]
  },
  {
   "cell_type": "markdown",
   "metadata": {
    "id": "koIPAdr5HVi5"
   },
   "source": [
    "Libraries"
   ]
  },
  {
   "cell_type": "code",
   "metadata": {
    "id": "H1ix1Me_HcMX"
   },
   "source": [
    "import string\n",
    "import math\n",
    "import random"
   ],
   "execution_count": 81,
   "outputs": []
  },
  {
   "cell_type": "markdown",
   "metadata": {
    "id": "gcI8Sj1Ekc7e"
   },
   "source": [
    "Sample text for scoring statistics"
   ]
  },
  {
   "cell_type": "code",
   "metadata": {
    "id": "6XCV9wOzi1ZC"
   },
   "source": [
    "path_to_language_corpus_fold = '/content/drive/My Drive/Magistracy_SPbU/3_semester/Machine_Learning/MCMC/MCMC_decryption/'\n",
    "\n",
    "with open(path_to_language_corpus_fold + 'war_and_peace_ru.txt', 'r', encoding = 'utf-8') as f:\n",
    "    raw_text = f.read().lower()"
   ],
   "execution_count": 82,
   "outputs": []
  },
  {
   "cell_type": "code",
   "metadata": {
    "colab": {
     "base_uri": "https://localhost:8080/",
     "height": 120
    },
    "id": "K0Z263Y9jDMB",
    "outputId": "01691d49-6e1c-49db-bedb-ba9c2a8ab85e"
   },
   "source": [
    "raw_text[:1000]"
   ],
   "execution_count": 83,
   "outputs": [
    {
     "output_type": "execute_result",
     "data": {
      "application/vnd.google.colaboratory.intrinsic+json": {
       "type": "string"
      },
      "text/plain": [
       "'том первый\\nчасть первая\\ni\\n– eh bien, mon prince. gênes et lucques ne sont plus que des apanages, des поместья, de la famille buonaparte. non, je vous préviens que si vous ne me dites pas que nous avons la guerre, si vous vous permettez encore de pallier toutes les infamies, toutes les atrocités de cet antichrist (ma parole, j’y crois) – je ne vous connais plus, vous n’êtes plus mon ami, vous n’êtes plus мой верный раб, comme vous dites.[1] ну, здравствуйте, здравствуйте. je vois que je vous fais peur,[2] садитесь и рассказывайте.\\n\\nтак говорила в июле 1805 года известная анна павловна шерер, фрейлина и приближенная императрицы марии феодоровны, встречая важного и чиновного князя василия, первого приехавшего на ее вечер. анна павловна кашляла несколько дней, у нее был грипп, как она говорила (грипп был тогда новое слово, употреблявшееся только редкими). в записочках, разосланных утром с красным лакеем, было написано без различия во всех:\\n\\n«si vous n’avez rien de mieux а faire, monsieur l'"
      ]
     },
     "metadata": {
      "tags": []
     },
     "execution_count": 83
    }
   ]
  },
  {
   "cell_type": "markdown",
   "metadata": {
    "id": "nB8JWM4jga4K"
   },
   "source": [
    "Creating alphabet"
   ]
  },
  {
   "cell_type": "code",
   "metadata": {
    "id": "EbJ8SHiBpnK8"
   },
   "source": [
    "a_cyrillic = ord('а')\n",
    "alphabet_list = ''.join([chr(i).upper() for i in range(a_cyrillic,a_cyrillic+6)] + [chr(a_cyrillic+33)] + [chr(i) for i in range(a_cyrillic+6,a_cyrillic+32)]) + ' '\n",
    "alphabet_list = alphabet_list.upper()"
   ],
   "execution_count": 84,
   "outputs": []
  },
  {
   "cell_type": "code",
   "metadata": {
    "colab": {
     "base_uri": "https://localhost:8080/",
     "height": 35
    },
    "id": "TpnQl3NYi0VP",
    "outputId": "578b616a-c692-4891-bd4a-029749d9e8e7"
   },
   "source": [
    "alphabet_list"
   ],
   "execution_count": 85,
   "outputs": [
    {
     "output_type": "execute_result",
     "data": {
      "application/vnd.google.colaboratory.intrinsic+json": {
       "type": "string"
      },
      "text/plain": [
       "'АБВГДЕЁЖЗИЙКЛМНОПРСТУФХЦЧШЩЪЫЬЭЮЯ '"
      ]
     },
     "metadata": {
      "tags": []
     },
     "execution_count": 85
    }
   ]
  },
  {
   "cell_type": "markdown",
   "metadata": {
    "id": "GMbiQR3NHs_1"
   },
   "source": [
    "# Functions"
   ]
  },
  {
   "cell_type": "code",
   "metadata": {
    "id": "c-TxsSUSGjPP"
   },
   "source": [
    "# This function takes as input a decryption key and creates a dict for key where each letter in the decryption key\n",
    "# maps to a alphabet For example if the decryption key is \"ПНСЕО....\" this function will create a dict like {П:А,Н:Б,С:В....}\n",
    "def create_cipher_dict(cipher):\n",
    "    cipher_dict = {}\n",
    "    for i in range(len(cipher)):\n",
    "        cipher_dict[alphabet_list[i]] = cipher[i]\n",
    "    return cipher_dict\n",
    "\n",
    "# This function takes a text and applies the cipher/key on the text and returns text.\n",
    "def apply_cipher_on_text(text,cipher):\n",
    "    cipher_dict = create_cipher_dict(cipher) \n",
    "    text = list(text)\n",
    "    newtext = \"\"\n",
    "    for elem in text:\n",
    "        if elem.upper() in cipher_dict:\n",
    "            newtext+=cipher_dict[elem.upper()]\n",
    "        else:\n",
    "            newtext+=\" \"\n",
    "    return newtext\n",
    "\n",
    "# This function takes as input a path to a long text and creates scoring_params dict which contains the \n",
    "# number of time each pair of alphabet appears together\n",
    "# Ex. {'AБ':234,'КЛ':2343,'ЖЗ':23 ..}\n",
    "def create_scoring_params_dict(longtext_path):\n",
    "    scoring_params = {}\n",
    "    with open(longtext_path) as fp:\n",
    "        for line in fp:\n",
    "            data = list(line.strip())\n",
    "            for i in range(len(data)-1):\n",
    "                alpha_i = data[i].upper()\n",
    "                alpha_j = data[i+1].upper()\n",
    "                # cleaning text \n",
    "                if alpha_i not in alphabet_list and alpha_i != \" \":\n",
    "                    alpha_i = \" \"\n",
    "                if alpha_j not in alphabet_list and alpha_j != \" \":\n",
    "                    alpha_j = \" \"\n",
    "                key = alpha_i+alpha_j\n",
    "                if key in scoring_params:\n",
    "                    scoring_params[key]+=1\n",
    "                else:\n",
    "                    scoring_params[key]=1\n",
    "    return scoring_params\n",
    "\n",
    "# This function takes as input a text and creates scoring_params dict which contains the \n",
    "# number of time each pair of alphabet appears together\n",
    "# Ex. {'АБ':234,'КЛ':2343,'ЖЗ':23 ..}\n",
    "def score_params_on_cipher(text):\n",
    "    scoring_params = {}\n",
    "    data = list(text.strip())\n",
    "    for i in range(len(data)-1):\n",
    "        alpha_i =data[i].upper()\n",
    "        alpha_j = data[i+1].upper()\n",
    "        if alpha_i not in alphabet_list and alpha_i != \" \":\n",
    "            alpha_i = \" \"\n",
    "        if alpha_j not in alphabet_list and alpha_j != \" \":\n",
    "            alpha_j = \" \"\n",
    "        key = alpha_i+alpha_j\n",
    "        if key in scoring_params:\n",
    "            scoring_params[key]+=1\n",
    "        else:\n",
    "            scoring_params[key]=1\n",
    "    return scoring_params\n",
    "\n",
    "# This function takes the text to be decrypted and a cipher to score the cipher.\n",
    "# This function returns the log(score) metric\n",
    "def get_cipher_score(text,cipher,scoring_params):\n",
    "    cipher_dict = create_cipher_dict(cipher)\n",
    "    decrypted_text = apply_cipher_on_text(text,cipher)\n",
    "    scored_f = score_params_on_cipher(decrypted_text)\n",
    "    cipher_score = 0\n",
    "    for k,v in scored_f.items():\n",
    "        if k in scoring_params:\n",
    "            cipher_score += v*math.log(scoring_params[k])\n",
    "    return cipher_score\n"
   ],
   "execution_count": 86,
   "outputs": []
  },
  {
   "cell_type": "markdown",
   "metadata": {
    "id": "3w4arPMbAf_V"
   },
   "source": [
    "Normalization"
   ]
  },
  {
   "cell_type": "code",
   "metadata": {
    "id": "NHE1qDXKiY3C"
   },
   "source": [
    "# This function takes as input a path to a long text and creates scoring_params dict which contains the \n",
    "# normalized number of time each pair of alphabet appears together\n",
    "def create_normalized_scoring_params_dict(longtext_path):\n",
    "    scoring_params = {}\n",
    "    with open(longtext_path) as fp:\n",
    "        # text_len = \n",
    "        for line in fp:\n",
    "            data = list(line.strip())\n",
    "            for i in range(len(data)-1):\n",
    "                alpha_i = data[i].upper()\n",
    "                alpha_j = data[i+1].upper()\n",
    "                if alpha_i not in alphabet_list and alpha_i != \" \":\n",
    "                    alpha_i = \" \"\n",
    "                if alpha_j not in alphabet_list and alpha_j != \" \":\n",
    "                    alpha_j = \" \"\n",
    "                key = alpha_i+alpha_j\n",
    "                if key in scoring_params:\n",
    "                    scoring_params[key]+=1\n",
    "                else:\n",
    "                    scoring_params[key]=1\n",
    "    # normalization\n",
    "    appearance_num = scoring_params.values()\n",
    "    total_appearance_num = sum(appearance_num)\n",
    "    scoring_params = {k: v / total_appearance_num for k, v in scoring_params.items()}\n",
    "    return scoring_params\n",
    "\n",
    "# This function takes as input a text and creates scoring_params dict which contains the \n",
    "# normalized number of time each pair of alphabet appears together\n",
    "def normalized_score_params_on_cipher(text):\n",
    "    scoring_params = {}\n",
    "    data = list(text.strip())\n",
    "    for i in range(len(data)-1):\n",
    "        alpha_i =data[i].upper()\n",
    "        alpha_j = data[i+1].upper()\n",
    "        if alpha_i not in alphabet_list and alpha_i != \" \":\n",
    "            alpha_i = \" \"\n",
    "        if alpha_j not in alphabet_list and alpha_j != \" \":\n",
    "            alpha_j = \" \"\n",
    "        key = alpha_i+alpha_j\n",
    "        if key in scoring_params:\n",
    "            scoring_params[key]+=1\n",
    "        else:\n",
    "            scoring_params[key]=1\n",
    "    # normalization\n",
    "    appearance_num = scoring_params.values()\n",
    "    total_appearance_num = sum(appearance_num)\n",
    "    scoring_params = {k: v / total_appearance_num for k, v in scoring_params.items()}\n",
    "    return scoring_params\n",
    "\n",
    "def normalized_get_cipher_score(text,cipher,scoring_params):\n",
    "    cipher_dict = create_cipher_dict(cipher)\n",
    "    decrypted_text = apply_cipher_on_text(text,cipher)\n",
    "    # scored_f = score_params_on_cipher(decrypted_text)\n",
    "    scored_f = normalized_score_params_on_cipher(decrypted_text)\n",
    "    cipher_score = 0\n",
    "    for k,v in scored_f.items():\n",
    "        if k in scoring_params:\n",
    "            cipher_score += v*math.log(scoring_params[k])\n",
    "            # cipher_score += v*scoring_params[k]\n",
    "            # cipher_score += v**scoring_params[k]\n",
    "    return cipher_score"
   ],
   "execution_count": 87,
   "outputs": []
  },
  {
   "cell_type": "code",
   "metadata": {
    "id": "n9hCWlTVGjPR"
   },
   "source": [
    "# Generate a proposal cipher by swapping letters at two random location\n",
    "def generate_cipher(cipher):\n",
    "    pos1 = random.randint(0, len(list(cipher))-1)\n",
    "    pos2 = random.randint(0, len(list(cipher))-1)\n",
    "    if pos1 == pos2:\n",
    "        return generate_cipher(cipher)\n",
    "    else:\n",
    "        cipher = list(cipher)\n",
    "        pos1_alpha = cipher[pos1]\n",
    "        pos2_alpha = cipher[pos2]\n",
    "        cipher[pos1] = pos2_alpha\n",
    "        cipher[pos2] = pos1_alpha\n",
    "        return \"\".join(cipher)\n",
    "\n",
    "# Toss a random coin with probability of head p. If coin comes head return true else false.\n",
    "def random_coin(p):\n",
    "    unif = random.uniform(0,1)\n",
    "    if unif>=p:\n",
    "        return False\n",
    "    else:\n",
    "        return True"
   ],
   "execution_count": 88,
   "outputs": []
  },
  {
   "cell_type": "code",
   "metadata": {
    "id": "P5uPVBKzGjPT"
   },
   "source": [
    "# Takes as input a text to decrypt and runs a MCMC algorithm for n_iter. Returns the state having maximum score and also\n",
    "# the last few states \n",
    "def MCMC_decrypt(n_iter,cipher_text,scoring_params):\n",
    "    current_cipher = alphabet_list\n",
    "    state_keeper = set()\n",
    "    best_state = ''\n",
    "    score = 0\n",
    "    for i in range(n_iter):\n",
    "        state_keeper.add(current_cipher)\n",
    "        # generate new cipher\n",
    "        proposed_cipher = generate_cipher(current_cipher)\n",
    "        # score current and proposed cipher \n",
    "        score_current_cipher = get_cipher_score(cipher_text,current_cipher,scoring_params)\n",
    "        score_proposed_cipher = get_cipher_score(cipher_text,proposed_cipher,scoring_params)\n",
    "        # compare scores of 2 ciphers\n",
    "        acceptance_probability = min(1,math.exp(score_proposed_cipher-score_current_cipher))\n",
    "        if score_current_cipher>score:\n",
    "            best_state = current_cipher\n",
    "        if random_coin(acceptance_probability):\n",
    "            current_cipher = proposed_cipher\n",
    "        if i%20000==0:\n",
    "            print(\"iter\",i,\":\",apply_cipher_on_text(cipher_text,current_cipher)[0:99])\n",
    "    return state_keeper,best_state\n",
    "\n",
    "def MCMC_decrypt_norm(n_iter,cipher_text,scoring_params):\n",
    "    current_cipher = alphabet_list\n",
    "    state_keeper = set()\n",
    "    best_state = ''\n",
    "    score = 0\n",
    "    for i in range(n_iter):\n",
    "        state_keeper.add(current_cipher)\n",
    "        # generate new cipher\n",
    "        proposed_cipher = generate_cipher(current_cipher)\n",
    "        # score current and proposed cipher \n",
    "        score_current_cipher = normalized_get_cipher_score(cipher_text,current_cipher,scoring_params)\n",
    "        score_proposed_cipher = normalized_get_cipher_score(cipher_text,proposed_cipher,scoring_params)\n",
    "        # compare scores of 2 ciphers\n",
    "        acceptance_probability = min(1,math.exp(score_proposed_cipher-score_current_cipher))\n",
    "        if score_current_cipher>score:\n",
    "            best_state = current_cipher\n",
    "        if random_coin(acceptance_probability):\n",
    "            current_cipher = proposed_cipher\n",
    "        if i%20000==0:\n",
    "            print(\"iter\",i,\":\",apply_cipher_on_text(cipher_text,current_cipher)[0:99])\n",
    "    return state_keeper,best_state"
   ],
   "execution_count": 89,
   "outputs": []
  },
  {
   "cell_type": "markdown",
   "metadata": {
    "id": "4phTZyQNIRNh"
   },
   "source": [
    "# Main part"
   ]
  },
  {
   "cell_type": "markdown",
   "metadata": {
    "id": "9SaLWzOY93nV"
   },
   "source": [
    "Decyphering the message using \"War and Peace\""
   ]
  },
  {
   "cell_type": "code",
   "metadata": {
    "id": "5qL6uP82GjPU",
    "colab": {
     "base_uri": "https://localhost:8080/"
    },
    "pycharm": {
     "name": "#%%\n"
    },
    "outputId": "435d5192-f1ac-407c-d51f-753b5e856030"
   },
   "source": [
    "## Run the Main Program:\n",
    "scoring_params = create_scoring_params_dict(path_to_language_corpus_fold + 'war_and_peace_ru.txt')\n",
    "\n",
    "cipher_text = \"щдшэсздбгдтиылъирдвсдпирвясндждягфгдогъзд бгдсынъьисздегясздргсдовяг биъьисзднтдбнёдщдыифвсиадшсвдсвдтиыифислоиадмвжэмиадориъгаджижд \\\n",
    "бгдмыгъясиорщрвяздбгжвсвывцдявфясогббвясзадндодыгтэрзсисгддвънбдшг въибдмыншг дъвоврзбвдяжыв бвхвдыит гыидолёвънсдщдбнюнцджиждпгдусвдмврэшнрвяз\"\n",
    "\n",
    "print(\"Text To Decode:\", cipher_text)\n",
    "print(\"\\n\")\n",
    "states,best_state = MCMC_decrypt(1000000,cipher_text,scoring_params)\n",
    "print(\"\\n\")\n",
    "print(\"Decoded Text:\",apply_cipher_on_text(cipher_text,best_state))\n",
    "print(\"\\n\")\n",
    "print(\"MCMC KEY FOUND:\",best_state)"
   ],
   "execution_count": 90,
   "outputs": [
    {
     "output_type": "stream",
     "text": [
      "Text To Decode: щдшэсздбгдтиылъирдвсдпирвясндждягфгдогъзд бгдсынъьисздегясздргсдовяг биъьисзднтдбнёдщдыифвсиадшсвдсвдтиыифислоиадмвжэмиадориъгаджижд бгдмыгъясиорщрвяздбгжвсвывцдявфясогббвясзадндодыгтэрзсисгддвънбдшг въибдмыншг дъвоврзбвдяжыв бвхвдыит гыидолёвънсдщдбнюнцджиждпгдусвдмврэшнрвяз\n",
      "\n",
      "\n",
      "iter 0 : ЩДШЭСЗДБГДТИЫЛЪИРДВСДПИРВЯСНДЖДЯГФГДОГЪЗД БГДСЫНЪЬИСЗДЕГЯСЗДРГСДОВЯГ БИЪЬИСЗДНТДБНЁДЩДЫИФВСИАДШСВДС\n",
      "iter 20000 : Я ЧУТЬ НЕ ЗАРЫЛАД ОТ ШАДОСТИ К СЕБЕ ВЕЛЬ ГНЕ ТРИЛЖАТЬ ФЕСТЬ ДЕТ ВОСЕГНАЛЖАТЬ ИЗ НИХ Я РАБОТАМ ЧТО Т\n",
      "iter 40000 : Я ЧУТЬ НЕ ЗАРЫЛАД ОТ БАДОСТИ К СЕГЕ ВЕЛЬ МНЕ ТРИЛЖАТЬ ШЕСТЬ ДЕТ ВОСЕМНАЛЖАТЬ ИЗ НИХ Я РАГОТАЮ ЧТО Т\n",
      "iter 60000 : Я ЧУТЬ НЕ ЗАРЫЛАД ОТ ШАДОСТИ К СЕГЕ ВЕЛЬ МНЕ ТРИЛЖАТЬ ЩЕСТЬ ДЕТ ВОСЕМНАЛЖАТЬ ИЗ НИХ Я РАГОТАЮ ЧТО Т\n",
      "iter 80000 : Я ЧУТЬ НЕ ЗАРЫЛАД ОТ БАДОСТИ К СЕГЕ ВЕЛЬ МНЕ ТРИЛЖАТЬ ЦЕСТЬ ДЕТ ВОСЕМНАЛЖАТЬ ИЗ НИХ Я РАГОТАЮ ЧТО Т\n",
      "iter 100000 : Я ЧУТЬ НЕ ЗАРЫЛАД ОТ ЦАДОСТИ К СЕБЕ ВЕЛЬ МНЕ ТРИЛЖАТЬ ФЕСТЬ ДЕТ ВОСЕМНАЛЖАТЬ ИЗ НИХ Я РАБОТАЮ ЧТО Т\n",
      "iter 120000 : Я ЧУТЬ НЕ ЗАРЫЛАД ОТ БАДОСТИ К СЕМЕ ВЕЛЬ ГНЕ ТРИЛЖАТЬ ШЕСТЬ ДЕТ ВОСЕГНАЛЖАТЬ ИЗ НИХ Я РАМОТАЮ ЧТО Т\n",
      "iter 140000 : Я ЧУТЬ НЕ ЗАРЫЛАД ОТ ШАДОСТИ К СЕБЕ ВЕЛЬ МНЕ ТРИЛЖАТЬ ЩЕСТЬ ДЕТ ВОСЕМНАЛЖАТЬ ИЗ НИХ Я РАБОТАЮ ЧТО Т\n",
      "iter 160000 : Я ЧУТЬ НЕ ЗАРЫЛАД ОТ БАДОСТИ К СЕГЕ ВЕЛЬ МНЕ ТРИЛЖАТЬ ШЕСТЬ ДЕТ ВОСЕМНАЛЖАТЬ ИЗ НИХ Я РАГОТАЮ ЧТО Т\n",
      "iter 180000 : Я ЧУТЬ НЕ ЗАРЫЛАД ОТ БАДОСТИ К СЕГЕ ВЕЛЬ МНЕ ТРИЛЖАТЬ ФЕСТЬ ДЕТ ВОСЕМНАЛЖАТЬ ИЗ НИХ Я РАГОТАЮ ЧТО Т\n",
      "iter 200000 : Я ЧУТЬ НЕ ЗАРЫЛАД ОТ БАДОСТИ К СЕГЕ ВЕЛЬ МНЕ ТРИЛЖАТЬ ФЕСТЬ ДЕТ ВОСЕМНАЛЖАТЬ ИЗ НИХ Я РАГОТАЮ ЧТО Т\n",
      "iter 220000 : Я ЧУТЬ НЕ ЗАРЫЛАД ОТ БАДОСТИ К СЕГЕ ВЕЛЬ МНЕ ТРИЛЖАТЬ ЦЕСТЬ ДЕТ ВОСЕМНАЛЖАТЬ ИЗ НИХ Я РАГОТАЮ ЧТО Т\n",
      "iter 240000 : Я ЧУТЬ НЕ ЗАРЫЛАД ОТ ШАДОСТИ К СЕГЕ ВЕЛЬ МНЕ ТРИЛЖАТЬ ФЕСТЬ ДЕТ ВОСЕМНАЛЖАТЬ ИЗ НИХ Я РАГОТАЮ ЧТО Т\n",
      "iter 260000 : Я ЧУТЬ НЕ ЗАРЫЛАД ОТ ЦАДОСТИ К СЕГЕ ВЕЛЬ МНЕ ТРИЛЖАТЬ ФЕСТЬ ДЕТ ВОСЕМНАЛЖАТЬ ИЗ НИХ Я РАГОТАЮ ЧТО Т\n",
      "iter 280000 : Я ЧУТЬ НЕ ЗАРЫЛАД ОТ ШАДОСТИ К СЕБЕ ВЕЛЬ МНЕ ТРИЛЖАТЬ ФЕСТЬ ДЕТ ВОСЕМНАЛЖАТЬ ИЗ НИХ Я РАБОТАЮ ЧТО Т\n",
      "iter 300000 : Я ЧУТЬ НЕ ЗАРЫЛАД ОТ ШАДОСТИ К СЕГЕ ВЕЛЬ МНЕ ТРИЛЖАТЬ ЦЕСТЬ ДЕТ ВОСЕМНАЛЖАТЬ ИЗ НИХ Я РАГОТАЮ ЧТО Т\n",
      "iter 320000 : Я ЧУТЬ НЕ ЗАРЫЛАД ОТ БАДОСТИ К СЕГЕ ВЕЛЬ МНЕ ТРИЛЖАТЬ ЩЕСТЬ ДЕТ ВОСЕМНАЛЖАТЬ ИЗ НИХ Я РАГОТАЮ ЧТО Т\n",
      "iter 340000 : Я ЧУТЬ НЕ ЗАРЫДАЛ ОТ ЖАЛОСТИ К СЕГЕ ВЕДЬ МНЕ ТРИДЦАТЬ БЕСТЬ ЛЕТ ВОСЕМНАДЦАТЬ ИЗ НИХ Я РАГОТАЮ ЧТО Т\n",
      "iter 360000 : Я ЧУТЬ НЕ ЗАРЫДАЛ ОТ ЖАЛОСТИ К СЕГЕ ВЕДЬ МНЕ ТРИДЦАТЬ ШЕСТЬ ЛЕТ ВОСЕМНАДЦАТЬ ИЗ НИХ Я РАГОТАЮ ЧТО Т\n",
      "iter 380000 : Я ЧУТЬ НЕ ЗАРЫДАЛ ОТ ЖАЛОСТИ К СЕГЕ ВЕДЬ МНЕ ТРИДШАТЬ ЩЕСТЬ ЛЕТ ВОСЕМНАДШАТЬ ИЗ НИХ Я РАГОТАЮ ЧТО Т\n",
      "iter 400000 : Я ЧУТЬ НЕ ЗАРЫДАЛ ОТ ЖАЛОСТИ К СЕГЕ ВЕДЬ МНЕ ТРИДЦАТЬ ЩЕСТЬ ЛЕТ ВОСЕМНАДЦАТЬ ИЗ НИХ Я РАГОТАЮ ЧТО Т\n",
      "iter 420000 : Я ЧУТЬ НЕ ЗАРЫДАЛ ОТ ЖАЛОСТИ К СЕГЕ ВЕДЬ МНЕ ТРИДЦАТЬ ШЕСТЬ ЛЕТ ВОСЕМНАДЦАТЬ ИЗ НИХ Я РАГОТАЮ ЧТО Т\n",
      "iter 440000 : Я ЧУТЬ НЕ ГАРЫМАЛ ОТ ЖАЛОСТИ К СЕЗЕ ВЕМЬ ДНЕ ТРИМЦАТЬ ШЕСТЬ ЛЕТ ВОСЕДНАМЦАТЬ ИГ НИХ Я РАЗОТАЮ ЧТО Т\n",
      "iter 460000 : Я ЧУТЬ НЕ ЗАРЫДАЛ ОТ ЖАЛОСТИ К СЕБЕ ВЕДЬ МНЕ ТРИДШАТЬ ЦЕСТЬ ЛЕТ ВОСЕМНАДШАТЬ ИЗ НИХ Я РАБОТАЮ ЧТО Т\n",
      "iter 480000 : Я ЧУТЬ НЕ ЗАРЫДАЛ ОТ БАЛОСТИ К СЕГЕ ВЕДЬ МНЕ ТРИДЦАТЬ ЖЕСТЬ ЛЕТ ВОСЕМНАДЦАТЬ ИЗ НИХ Я РАГОТАЮ ЧТО Т\n",
      "iter 500000 : Я ЧУТЬ НЕ ЗАРЫВАЛ ОТ ЖАЛОСТИ К СЕМЕ БЕВЬ ДНЕ ТРИВШАТЬ ЦЕСТЬ ЛЕТ БОСЕДНАВШАТЬ ИЗ НИХ Я РАМОТАЮ ЧТО Т\n",
      "iter 520000 : Я ЧУТЬ НЕ ЗАРЫВАЛ ОТ ЖАЛОСТИ К СЕДЕ БЕВЬ МНЕ ТРИВШАТЬ ЩЕСТЬ ЛЕТ БОСЕМНАВШАТЬ ИЗ НИХ Я РАДОТАЮ ЧТО Т\n",
      "iter 540000 : Я ЧУТЬ НЕ ЗАРЫВАЛ ОТ ЖАЛОСТИ К СЕДЕ БЕВЬ МНЕ ТРИВШАТЬ ЦЕСТЬ ЛЕТ БОСЕМНАВШАТЬ ИЗ НИХ Я РАДОТАЮ ЧТО Т\n",
      "iter 560000 : Я ЧУТЬ НЕ ЗАРЫДАЛ ОТ ЖАЛОСТИ К СЕБЕ ВЕДЬ МНЕ ТРИДЦАТЬ ШЕСТЬ ЛЕТ ВОСЕМНАДЦАТЬ ИЗ НИХ Я РАБОТАЮ ЧТО Т\n",
      "iter 580000 : Я ЧУТЬ НЕ ЗАРЫДАЛ ОТ ЖАЛОСТИ К СЕГЕ ВЕДЬ МНЕ ТРИДШАТЬ ФЕСТЬ ЛЕТ ВОСЕМНАДШАТЬ ИЗ НИХ Я РАГОТАЮ ЧТО Т\n",
      "iter 600000 : Я ЧУТЬ НЕ ЗАРЫДАЛ ОТ ЖАЛОСТИ К СЕБЕ ВЕДЬ МНЕ ТРИДШАТЬ ЦЕСТЬ ЛЕТ ВОСЕМНАДШАТЬ ИЗ НИХ Я РАБОТАЮ ЧТО Т\n",
      "iter 620000 : Я ЧУТЬ НЕ ЗАРЫВАЛ ОТ ЖАЛОСТИ К СЕМЕ БЕВЬ ДНЕ ТРИВШАТЬ ФЕСТЬ ЛЕТ БОСЕДНАВШАТЬ ИЗ НИХ Я РАМОТАЮ ЧТО Т\n",
      "iter 640000 : Я ЧУТЬ НЕ ЗАРЫДАЛ ОТ БАЛОСТИ К СЕЖЕ ВЕДЬ МНЕ ТРИДЦАТЬ ЩЕСТЬ ЛЕТ ВОСЕМНАДЦАТЬ ИЗ НИХ Я РАЖОТАЮ ЧТО Т\n",
      "iter 660000 : Я ЧУТЬ НЕ ЗАРЫВАЛ ОТ ЖАЛОСТИ К СЕГЕ ДЕВЬ МНЕ ТРИВШАТЬ ЦЕСТЬ ЛЕТ ДОСЕМНАВШАТЬ ИЗ НИХ Я РАГОТАЮ ЧТО Т\n",
      "iter 680000 : Я ЧУТЬ НЕ ЗАРЫДАЛ ОТ БАЛОСТИ К СЕМЕ ВЕДЬ ГНЕ ТРИДЦАТЬ ЖЕСТЬ ЛЕТ ВОСЕГНАДЦАТЬ ИЗ НИХ Я РАМОТАЮ ЧТО Т\n",
      "iter 700000 : Ю ЧУТЬ НЕ ЗАРЫДАЛ ОТ ЖАЛОСТИ К СЕГЕ ВЕДЬ МНЕ ТРИДЦАТЬ БЕСТЬ ЛЕТ ВОСЕМНАДЦАТЬ ИЗ НИХ Ю РАГОТАЯ ЧТО Т\n",
      "iter 720000 : Я ЧУТЬ НЕ ЗАРЫЛАД ОТ ШАДОСТИ К СЕГЕ ВЕЛЬ МНЕ ТРИЛЖАТЬ ЦЕСТЬ ДЕТ ВОСЕМНАЛЖАТЬ ИЗ НИХ Я РАГОТАЮ ЧТО Т\n",
      "iter 740000 : Я ЧУТЬ НЕ ЗАРЫЛАД ОТ БАДОСТИ К СЕГЕ ВЕЛЬ МНЕ ТРИЛЖАТЬ ЦЕСТЬ ДЕТ ВОСЕМНАЛЖАТЬ ИЗ НИХ Я РАГОТАЮ ЧТО Т\n",
      "iter 760000 : Я ЧУТЬ НЕ ЗАРЫЛАД ОТ ШАДОСТИ К СЕГЕ ВЕЛЬ МНЕ ТРИЛЖАТЬ ФЕСТЬ ДЕТ ВОСЕМНАЛЖАТЬ ИЗ НИХ Я РАГОТАЮ ЧТО Т\n",
      "iter 780000 : Я ЧУТЬ НЕ ЗАРЫЛАД ОТ БАДОСТИ К СЕГЕ ВЕЛЬ МНЕ ТРИЛЖАТЬ ФЕСТЬ ДЕТ ВОСЕМНАЛЖАТЬ ИЗ НИХ Я РАГОТАЮ ЧТО Т\n",
      "iter 800000 : Я ЧУТЬ НЕ ЗАРЫЛАД ОТ БАДОСТИ К СЕГЕ ВЕЛЬ МНЕ ТРИЛЖАТЬ ШЕСТЬ ДЕТ ВОСЕМНАЛЖАТЬ ИЗ НИХ Я РАГОТАЮ ЧТО Т\n",
      "iter 820000 : Я ЧУТЬ НЕ ЗАРЫЛАД ОТ БАДОСТИ К СЕГЕ ВЕЛЬ МНЕ ТРИЛЖАТЬ ШЕСТЬ ДЕТ ВОСЕМНАЛЖАТЬ ИЗ НИХ Я РАГОТАЮ ЧТО Т\n",
      "iter 840000 : Я ЧУТЬ НЕ ЗАРЫЛАД ОТ БАДОСТИ К СЕГЕ ВЕЛЬ МНЕ ТРИЛЖАТЬ ЦЕСТЬ ДЕТ ВОСЕМНАЛЖАТЬ ИЗ НИХ Я РАГОТАЮ ЧТО Т\n",
      "iter 860000 : Я ЧУТЬ НЕ ЗАРЫЛАМ ОТ ШАМОСТИ К СЕГЕ ВЕЛЬ ДНЕ ТРИЛЖАТЬ ЦЕСТЬ МЕТ ВОСЕДНАЛЖАТЬ ИЗ НИХ Я РАГОТАЮ ЧТО Т\n",
      "iter 880000 : Я ЧУТЬ НЕ ЗАРЫЛАД ОТ ШАДОСТИ К СЕБЕ ВЕЛЬ МНЕ ТРИЛЖАТЬ ФЕСТЬ ДЕТ ВОСЕМНАЛЖАТЬ ИЗ НИХ Я РАБОТАЮ ЧТО Т\n",
      "iter 900000 : Ю ЧУТЬ НЕ ЗАРЫЛАД ОТ ШАДОСТИ К СЕБЕ ВЕЛЬ МНЕ ТРИЛЖАТЬ ФЕСТЬ ДЕТ ВОСЕМНАЛЖАТЬ ИЗ НИХ Ю РАБОТАЯ ЧТО Т\n",
      "iter 920000 : Я ЧУТЬ НЕ ЗАРЫДАЛ ОТ БАЛОСТИ К СЕГЕ ВЕДЬ МНЕ ТРИДЦАТЬ ШЕСТЬ ЛЕТ ВОСЕМНАДЦАТЬ ИЗ НИХ Я РАГОТАЮ ЧТО Т\n",
      "iter 940000 : Я ЧУТЬ НЕ ЗАРЫДАЛ ОТ ЖАЛОСТИ К СЕГЕ ВЕДЬ МНЕ ТРИДШАТЬ ЦЕСТЬ ЛЕТ ВОСЕМНАДШАТЬ ИЗ НИХ Я РАГОТАЮ ЧТО Т\n",
      "iter 960000 : Я ЧУТЬ НЕ ЗАРЫДАЛ ОТ БАЛОСТИ К СЕГЕ ВЕДЬ МНЕ ТРИДШАТЬ ФЕСТЬ ЛЕТ ВОСЕМНАДШАТЬ ИЗ НИХ Я РАГОТАЮ ЧТО Т\n",
      "iter 980000 : Я ЧУТЬ НЕ ЗАРЫДАЛ ОТ БАЛОСТИ К СЕЖЕ ВЕДЬ МНЕ ТРИДЦАТЬ ЩЕСТЬ ЛЕТ ВОСЕМНАДЦАТЬ ИЗ НИХ Я РАЖОТАЮ ЧТО Т\n",
      "\n",
      "\n",
      "Decoded Text: Я ЧУТЬ НЕ ЗАРЫДАЛ ОТ ЖАЛОСТИ К СЕБЕ ВЕДЬ МНЕ ТРИДШАТЬ ЦЕСТЬ ЛЕТ ВОСЕМНАДШАТЬ ИЗ НИХ Я РАБОТАЮ ЧТО ТО ЗАРАБАТЫВАЮ ПОКУПАЮ ВЛАДЕЮ КАК МНЕ ПРЕДСТАВЛЯЛОСЬ НЕКОТОРОЙ СОБСТВЕННОСТЬЮ И В РЕЗУЛЬТАТЕ  ОДИН ЧЕМОДАН ПРИЧЕМ ДОВОЛЬНО СКРОМНОГО РАЗМЕРА ВЫХОДИТ Я НИФИЙ КАК ЖЕ ЭТО ПОЛУЧИЛОСЬ\n",
      "\n",
      "\n",
      "MCMC KEY FOUND: ЮНОЕ ЦХКЬАЁЪЫПИВЖЛТЗЭБГЙЩЧЯДРШУФСМ\n"
     ],
     "name": "stdout"
    }
   ]
  },
  {
   "cell_type": "code",
   "metadata": {
    "colab": {
     "base_uri": "https://localhost:8080/",
     "height": 52
    },
    "id": "hUcTPsq6DahE",
    "outputId": "a1af0235-3d5b-4188-bdc7-ca03b44859d5"
   },
   "source": [
    "decyphered_text = apply_cipher_on_text(cipher_text,best_state)\n",
    "decyphered_text"
   ],
   "execution_count": 76,
   "outputs": [
    {
     "output_type": "execute_result",
     "data": {
      "application/vnd.google.colaboratory.intrinsic+json": {
       "type": "string"
      },
      "text/plain": [
       "'Я ЧУТЬ НЕ ЗАРЫЛАД ОТ ЦАДОСТИ К СЕБЕ ВЕЛЬ МНЕ ТРИЛЖАТЬ ЩЕСТЬ ДЕТ ВОСЕМНАЛЖАТЬ ИЗ НИХ Я РАБОТАЮ ЧТО ТО ЗАРАБАТЫВАЮ ПОКУПАЮ ВДАЛЕЮ КАК МНЕ ПРЕЛСТАВДЯДОСЬ НЕКОТОРОЙ СОБСТВЕННОСТЬЮ И В РЕЗУДЬТАТЕ  ОЛИН ЧЕМОЛАН ПРИЧЕМ ЛОВОДЬНО СКРОМНОГО РАЗМЕРА ВЫХОЛИТ Я НИШИЙ КАК ЦЕ ЭТО ПОДУЧИДОСЬ'"
      ]
     },
     "metadata": {
      "tags": []
     },
     "execution_count": 76
    }
   ]
  },
  {
   "cell_type": "markdown",
   "metadata": {
    "id": "TH3lfyvk-F4_"
   },
   "source": [
    "Now let's score statistics on the text of Crime and Punishment and compare the results. "
   ]
  },
  {
   "cell_type": "code",
   "metadata": {
    "colab": {
     "base_uri": "https://localhost:8080/"
    },
    "id": "O7n229GR-TAN",
    "outputId": "fe845b7e-ca26-4bc6-ba3b-d066c9d921b5"
   },
   "source": [
    "## Run the Main Program:\n",
    "scoring_params = create_scoring_params_dict(path_to_language_corpus_fold + 'crime_and_punishment_ru.txt')\n",
    "\n",
    "cipher_text = \"щдшэсздбгдтиылъирдвсдпирвясндждягфгдогъзд бгдсынъьисздегясздргсдовяг биъьисзднтдбнёдщдыифвсиадшсвдсвдтиыифислоиадмвжэмиадориъгаджижд \\\n",
    "бгдмыгъясиорщрвяздбгжвсвывцдявфясогббвясзадндодыгтэрзсисгддвънбдшг въибдмыншг дъвоврзбвдяжыв бвхвдыит гыидолёвънсдщдбнюнцджиждпгдусвдмврэшнрвяз\"\n",
    "\n",
    "print(\"Text To Decode:\", cipher_text)\n",
    "print(\"\\n\")\n",
    "states,best_state = MCMC_decrypt(1000000,cipher_text,scoring_params)\n",
    "print(\"\\n\")\n",
    "print(\"Decoded Text:\",apply_cipher_on_text(cipher_text,best_state))\n",
    "print(\"\\n\")\n",
    "print(\"MCMC KEY FOUND:\",best_state)"
   ],
   "execution_count": 74,
   "outputs": [
    {
     "output_type": "stream",
     "text": [
      "Text To Decode: щдшэсздбгдтиылъирдвсдпирвясндждягфгдогъзд бгдсынъьисздегясздргсдовяг биъьисзднтдбнёдщдыифвсиадшсвдсвдтиыифислоиадмвжэмиадориъгаджижд бгдмыгъясиорщрвяздбгжвсвывцдявфясогббвясзадндодыгтэрзсисгддвънбдшг въибдмыншг дъвоврзбвдяжыв бвхвдыит гыидолёвънсдщдбнюнцджиждпгдусвдмврэшнрвяз\n",
      "\n",
      "\n",
      "iter 0 : ЩДШЭСЗДБГДТИЫЛЪИРДВСДПИРВЯСНДЖДЯГФГДОГЪЗД БГДСЫНЪЬИСЗДЕГЯСЗДРГСДОВЯГ БИЪЬИСЗДНТДБНЁДЩДЫИФВСИАДШСВДС\n",
      "iter 20000 : Я ЧУТЬ НЕ ЗАРЫДАЛ ОТ ЖАЛОСТИ К СЕБЕ ВЕДЬ МНЕ ТРИДЦАТЬ ШЕСТЬ ЛЕТ ВОСЕМНАДЦАТЬ ИЗ НИХ Я РАБОТАЮ ЧТО Т\n",
      "iter 40000 : Я ЧУТЬ НЕ ЗАРЫДАЛ ОТ ЖАЛОСТИ К СЕБЕ ВЕДЬ МНЕ ТРИДЦАТЬ ФЕСТЬ ЛЕТ ВОСЕМНАДЦАТЬ ИЗ НИХ Я РАБОТАЮ ЧТО Т\n",
      "iter 60000 : Я ЧУТЬ НЕ ЗАРЫДАЛ ОТ ЖАЛОСТИ К СЕБЕ ВЕДЬ МНЕ ТРИДЦАТЬ ЩЕСТЬ ЛЕТ ВОСЕМНАДЦАТЬ ИЗ НИХ Я РАБОТАЮ ЧТО Т\n",
      "iter 80000 : Я ЧУТЬ НЕ ЗАРЫДАЛ ОТ ЖАЛОСТИ К СЕБЕ ВЕДЬ МНЕ ТРИДЦАТЬ ФЕСТЬ ЛЕТ ВОСЕМНАДЦАТЬ ИЗ НИХ Я РАБОТАЮ ЧТО Т\n",
      "iter 100000 : Я ЧУТЬ НЕ ЗАРЫДАЛ ОТ ЖАЛОСТИ К СЕБЕ ВЕДЬ МНЕ ТРИДЦАТЬ ФЕСТЬ ЛЕТ ВОСЕМНАДЦАТЬ ИЗ НИХ Я РАБОТАЮ ЧТО Т\n",
      "iter 120000 : Я ЧУТЬ НЕ ЗАРЫДАЛ ОТ ГАЛОСТИ К СЕБЕ ВЕДЬ МНЕ ТРИДЦАТЬ ЖЕСТЬ ЛЕТ ВОСЕМНАДЦАТЬ ИЗ НИХ Я РАБОТАЮ ЧТО Т\n",
      "iter 140000 : Я ЧУТЬ НЕ ЗАРЫДАЛ ОТ ЖАЛОСТИ К СЕБЕ ВЕДЬ МНЕ ТРИДЦАТЬ ШЕСТЬ ЛЕТ ВОСЕМНАДЦАТЬ ИЗ НИХ Я РАБОТАЮ ЧТО Т\n",
      "iter 160000 : Я ЧУТЬ НЕ ЗАРЫДАЛ ОТ ЖАЛОСТИ К СЕБЕ ВЕДЬ МНЕ ТРИДЦАТЬ ШЕСТЬ ЛЕТ ВОСЕМНАДЦАТЬ ИЗ НИХ Я РАБОТАЮ ЧТО Т\n",
      "iter 180000 : Я ЧУТЬ НЕ ЗАРЫДАЛ ОТ БАЛОСТИ К СЕГЕ ВЕДЬ МНЕ ТРИДЦАТЬ ЖЕСТЬ ЛЕТ ВОСЕМНАДЦАТЬ ИЗ НИХ Я РАГОТАЮ ЧТО Т\n",
      "iter 200000 : Я ЧУТЬ НЕ ЗАРЫДАЛ ОТ ЖАЛОСТИ К СЕБЕ ВЕДЬ МНЕ ТРИДЦАТЬ ШЕСТЬ ЛЕТ ВОСЕМНАДЦАТЬ ИЗ НИХ Я РАБОТАЮ ЧТО Т\n",
      "iter 220000 : Я ЧУТЬ НЕ ЗАРЫДАЛ ОТ ШАЛОСТИ К СЕБЕ ВЕДЬ МНЕ ТРИДЦАТЬ ЖЕСТЬ ЛЕТ ВОСЕМНАДЦАТЬ ИЗ НИХ Я РАБОТАЮ ЧТО Т\n",
      "iter 240000 : Я ЧУТЬ НЕ ЗАРЫДАЛ ОТ ЖАЛОСТИ К СЕГЕ ВЕДЬ МНЕ ТРИДЦАТЬ БЕСТЬ ЛЕТ ВОСЕМНАДЦАТЬ ИЗ НИХ Я РАГОТАЮ ЧТО Т\n",
      "iter 260000 : Я ЧУТЬ НЕ ЗАРЫДАЛ ОТ ЖАЛОСТИ К СЕБЕ ВЕДЬ МНЕ ТРИДЦАТЬ ШЕСТЬ ЛЕТ ВОСЕМНАДЦАТЬ ИЗ НИХ Я РАБОТАЮ ЧТО Т\n",
      "iter 280000 : Я ЧУТЬ НЕ ЗАРЫДАЛ ОТ ЖАЛОСТИ К СЕБЕ ВЕДЬ МНЕ ТРИДЦАТЬ ШЕСТЬ ЛЕТ ВОСЕМНАДЦАТЬ ИЗ НИХ Я РАБОТАЮ ЧТО Т\n",
      "iter 300000 : Я ЧУТЬ НЕ ЗАРЫДАЛ ОТ ЖАЛОСТИ К СЕБЕ ВЕДЬ МНЕ ТРИДЦАТЬ ФЕСТЬ ЛЕТ ВОСЕМНАДЦАТЬ ИЗ НИХ Я РАБОТАЮ ЧТО Т\n",
      "iter 320000 : Я ЧУТЬ НЕ ЗАРЫДАЛ ОТ ЖАЛОСТИ К СЕБЕ ВЕДЬ МНЕ ТРИДЦАТЬ ШЕСТЬ ЛЕТ ВОСЕМНАДЦАТЬ ИЗ НИХ Я РАБОТАЮ ЧТО Т\n",
      "iter 340000 : Я ЧУТЬ НЕ ЗАРЫДАЛ ОТ ЖАЛОСТИ К СЕГЕ ВЕДЬ МНЕ ТРИДЦАТЬ ШЕСТЬ ЛЕТ ВОСЕМНАДЦАТЬ ИЗ НИХ Я РАГОТАЮ ЧТО Т\n",
      "iter 360000 : Я ЧУТЬ НЕ ЗАРЫДАЛ ОТ ЖАЛОСТИ К СЕБЕ ВЕДЬ МНЕ ТРИДЦАТЬ ШЕСТЬ ЛЕТ ВОСЕМНАДЦАТЬ ИЗ НИХ Я РАБОТАЙ ЧТО Т\n",
      "iter 380000 : Я ЧУТЬ НЕ ЗАРЫДАЛ ОТ ЖАЛОСТИ К СЕБЕ ВЕДЬ МНЕ ТРИДЦАТЬ ШЕСТЬ ЛЕТ ВОСЕМНАДЦАТЬ ИЗ НИХ Я РАБОТАЮ ЧТО Т\n",
      "iter 400000 : Я ЧУТЬ НЕ ЗАРЫДАЛ ОТ БАЛОСТИ К СЕЖЕ ВЕДЬ МНЕ ТРИДЦАТЬ ШЕСТЬ ЛЕТ ВОСЕМНАДЦАТЬ ИЗ НИХ Я РАЖОТАЮ ЧТО Т\n",
      "iter 420000 : Я ЧУТЬ НЕ ЗАРЫДАЛ ОТ ЖАЛОСТИ К СЕБЕ ВЕДЬ МНЕ ТРИДЦАТЬ ШЕСТЬ ЛЕТ ВОСЕМНАДЦАТЬ ИЗ НИХ Я РАБОТАЮ ЧТО Т\n",
      "iter 440000 : Я ЧУТЬ НЕ ЗАРЫДАЛ ОТ ЖАЛОСТИ К СЕГЕ ВЕДЬ МНЕ ТРИДЦАТЬ ШЕСТЬ ЛЕТ ВОСЕМНАДЦАТЬ ИЗ НИХ Я РАГОТАЮ ЧТО Т\n",
      "iter 460000 : Я ЧУТЬ НЕ ЗАРЫДАЛ ОТ ЖАЛОСТИ К СЕГЕ ВЕДЬ МНЕ ТРИДЦАТЬ БЕСТЬ ЛЕТ ВОСЕМНАДЦАТЬ ИЗ НИХ Я РАГОТАЮ ЧТО Т\n",
      "iter 480000 : Я ЧУТЬ НЕ ЗАРЫДАЛ ОТ ЖАЛОСТИ К СЕБЕ ВЕДЬ МНЕ ТРИДЦАТЬ ЩЕСТЬ ЛЕТ ВОСЕМНАДЦАТЬ ИЗ НИХ Я РАБОТАЮ ЧТО Т\n",
      "iter 500000 : Я ЧУТЬ НЕ ЗАРЫДАЛ ОТ ЖАЛОСТИ К СЕБЕ ВЕДЬ МНЕ ТРИДЦАТЬ ФЕСТЬ ЛЕТ ВОСЕМНАДЦАТЬ ИЗ НИХ Я РАБОТАЮ ЧТО Т\n",
      "iter 520000 : Я ЧУТЬ НЕ ЗАРЫДАЛ ОТ ЖАЛОСТИ К СЕБЕ ВЕДЬ МНЕ ТРИДЦАТЬ ЩЕСТЬ ЛЕТ ВОСЕМНАДЦАТЬ ИЗ НИХ Я РАБОТАЮ ЧТО Т\n",
      "iter 540000 : Я ЧУТЬ НЕ ЗАРЫДАЛ ОТ ЖАЛОСТИ К СЕГЕ ВЕДЬ МНЕ ТРИДЦАТЬ ШЕСТЬ ЛЕТ ВОСЕМНАДЦАТЬ ИЗ НИХ Я РАГОТАЮ ЧТО Т\n",
      "iter 560000 : Я ЧУТЬ НЕ ЗАРЫДАЛ ОТ ЖАЛОСТИ К СЕБЕ ВЕДЬ МНЕ ТРИДЦАТЬ ШЕСТЬ ЛЕТ ВОСЕМНАДЦАТЬ ИЗ НИХ Я РАБОТАЮ ЧТО Т\n",
      "iter 580000 : Я ЧУТЬ НЕ ЗАРЫДАЛ ОТ ЖАЛОСТИ К СЕГЕ ВЕДЬ МНЕ ТРИДЦАТЬ ФЕСТЬ ЛЕТ ВОСЕМНАДЦАТЬ ИЗ НИХ Я РАГОТАЮ ЧТО Т\n",
      "iter 600000 : Я ЧУТЬ НЕ ЗАРЫДАЛ ОТ ЖАЛОСТИ К СЕБЕ ВЕДЬ МНЕ ТРИДЦАТЬ ШЕСТЬ ЛЕТ ВОСЕМНАДЦАТЬ ИЗ НИХ Я РАБОТАЮ ЧТО Т\n",
      "iter 620000 : Я ЧУТЬ НЕ ЗАРЫДАЛ ОТ ЖАЛОСТИ К СЕБЕ ВЕДЬ МНЕ ТРИДЦАТЬ ШЕСТЬ ЛЕТ ВОСЕМНАДЦАТЬ ИЗ НИХ Я РАБОТАЮ ЧТО Т\n",
      "iter 640000 : Я ЧУТЬ НЕ ЗАРЫДАЛ ОТ ЖАЛОСТИ К СЕГЕ ВЕДЬ МНЕ ТРИДЦАТЬ ШЕСТЬ ЛЕТ ВОСЕМНАДЦАТЬ ИЗ НИХ Я РАГОТАЮ ЧТО Т\n",
      "iter 660000 : Я ЧУТЬ НЕ ЗАРЫДАЛ ОТ ШАЛОСТИ К СЕБЕ ВЕДЬ МНЕ ТРИДЦАТЬ ЖЕСТЬ ЛЕТ ВОСЕМНАДЦАТЬ ИЗ НИХ Я РАБОТАЮ ЧТО Т\n",
      "iter 680000 : Я ЧУТЬ НЕ ЗАРЫДАЛ ОТ БАЛОСТИ К СЕГЕ ВЕДЬ МНЕ ТРИДЦАТЬ ЖЕСТЬ ЛЕТ ВОСЕМНАДЦАТЬ ИЗ НИХ Я РАГОТАЮ ЧТО Т\n",
      "iter 700000 : Я ЧУТЬ НЕ ЗАРЫДАЛ ОТ ЖАЛОСТИ К СЕБЕ ВЕДЬ МНЕ ТРИДЦАТЬ ШЕСТЬ ЛЕТ ВОСЕМНАДЦАТЬ ИЗ НИХ Я РАБОТАЮ ЧТО Т\n",
      "iter 720000 : Я ЧУТЬ НЕ ЗАРЫДАЛ ОТ ШАЛОСТИ К СЕБЕ ВЕДЬ МНЕ ТРИДЦАТЬ ЖЕСТЬ ЛЕТ ВОСЕМНАДЦАТЬ ИЗ НИХ Я РАБОТАЮ ЧТО Т\n",
      "iter 740000 : Я ЧУТЬ НЕ ЗАРЫДАЛ ОТ ЖАЛОСТИ К СЕБЕ ВЕДЬ МНЕ ТРИДЦАТЬ ШЕСТЬ ЛЕТ ВОСЕМНАДЦАТЬ ИЗ НИХ Я РАБОТАЮ ЧТО Т\n",
      "iter 760000 : Я ЧУТЬ НЕ ЗАРЫДАЛ ОТ ЖАЛОСТИ К СЕБЕ ВЕДЬ МНЕ ТРИДЦАТЬ ШЕСТЬ ЛЕТ ВОСЕМНАДЦАТЬ ИЗ НИХ Я РАБОТАЮ ЧТО Т\n",
      "iter 780000 : Я ЧУТЬ НЕ ЗАРЫДАЛ ОТ ЖАЛОСТИ К СЕБЕ ВЕДЬ МНЕ ТРИДЦАТЬ ШЕСТЬ ЛЕТ ВОСЕМНАДЦАТЬ ИЗ НИХ Я РАБОТАЮ ЧТО Т\n",
      "iter 800000 : Я ЧУТЬ НЕ ЗАРЫДАЛ ОТ ЖАЛОСТИ К СЕБЕ ВЕДЬ МНЕ ТРИДЦАТЬ ЩЕСТЬ ЛЕТ ВОСЕМНАДЦАТЬ ИЗ НИХ Я РАБОТАЮ ЧТО Т\n",
      "iter 820000 : Я ЧУТЬ НЕ ЗАРЫДАЛ ОТ ЖАЛОСТИ К СЕБЕ ВЕДЬ МНЕ ТРИДЦАТЬ ФЕСТЬ ЛЕТ ВОСЕМНАДЦАТЬ ИЗ НИХ Я РАБОТАЮ ЧТО Т\n",
      "iter 840000 : Я ЧУТЬ НЕ ЗАРЫДАЛ ОТ ЖАЛОСТИ К СЕБЕ ВЕДЬ МНЕ ТРИДЦАТЬ ЩЕСТЬ ЛЕТ ВОСЕМНАДЦАТЬ ИЗ НИХ Я РАБОТАЮ ЧТО Т\n",
      "iter 860000 : Я ЧУТЬ НЕ ЗАРЫДАЛ ОТ ЖАЛОСТИ К СЕБЕ ВЕДЬ МНЕ ТРИДЦАТЬ ШЕСТЬ ЛЕТ ВОСЕМНАДЦАТЬ ИЗ НИХ Я РАБОТАЮ ЧТО Т\n",
      "iter 880000 : Я ЧУТЬ НЕ ЗАРЫДАЛ ОТ ШАЛОСТИ К СЕБЕ ВЕДЬ МНЕ ТРИДЦАТЬ ЖЕСТЬ ЛЕТ ВОСЕМНАДЦАТЬ ИЗ НИХ Я РАБОТАЮ ЧТО Т\n",
      "iter 900000 : Я ЧУТЬ НЕ ЗАРЫДАЛ ОТ ЖАЛОСТИ К СЕБЕ ВЕДЬ МНЕ ТРИДЦАТЬ ФЕСТЬ ЛЕТ ВОСЕМНАДЦАТЬ ИЗ НИХ Я РАБОТАЮ ЧТО Т\n",
      "iter 920000 : Я ЧУТЬ НЕ ЗАРЫДАЛ ОТ ЖАЛОСТИ К СЕГЕ ВЕДЬ МНЕ ТРИДЦАТЬ БЕСТЬ ЛЕТ ВОСЕМНАДЦАТЬ ИЗ НИХ Я РАГОТАЮ ЧТО Т\n",
      "iter 940000 : Я ЧУТЬ НЕ ЗАРЫЛАД ОТ ЩАДОСТИ К СЕБЕ ВЕЛЬ МНЕ ТРИЛЖАТЬ ЦЕСТЬ ДЕТ ВОСЕМНАЛЖАТЬ ИЗ НИХ Я РАБОТАЮ ЧТО Т\n",
      "iter 960000 : Я ЧУТЬ НЕ ЗАРЫЛАД ОТ ШАДОСТИ К СЕГЕ ВЕЛЬ МНЕ ТРИЛЖАТЬ ЦЕСТЬ ДЕТ ВОСЕМНАЛЖАТЬ ИЗ НИХ Я РАГОТАЮ ЧТО Т\n",
      "iter 980000 : Я ЧУТЬ НЕ ЗАРЫЛАД ОТ ЦАДОСТИ К СЕБЕ ВЕЛЬ МНЕ ТРИЛЖАТЬ ШЕСТЬ ДЕТ ВОСЕМНАЛЖАТЬ ИЗ НИХ Я РАБОТАЮ ЧТО Т\n",
      "\n",
      "\n",
      "Decoded Text: Я ЧУТЬ НЕ ЗАРЫЛАД ОТ ЦАДОСТИ К СЕБЕ ВЕЛЬ МНЕ ТРИЛЖАТЬ ЩЕСТЬ ДЕТ ВОСЕМНАЛЖАТЬ ИЗ НИХ Я РАБОТАЮ ЧТО ТО ЗАРАБАТЫВАЮ ПОКУПАЮ ВДАЛЕЮ КАК МНЕ ПРЕЛСТАВДЯДОСЬ НЕКОТОРОЙ СОБСТВЕННОСТЬЮ И В РЕЗУДЬТАТЕ  ОЛИН ЧЕМОЛАН ПРИЧЕМ ЛОВОДЬНО СКРОМНОГО РАЗМЕРА ВЫХОЛИТ Я НИШИЙ КАК ЦЕ ЭТО ПОДУЧИДОСЬ\n",
      "\n",
      "\n",
      "MCMC KEY FOUND: ЮНОЕ ЩХКЬАЪЁЫПИВЦДТЗЭБГЙФЧЯЛРЖУШСМ\n"
     ],
     "name": "stdout"
    }
   ]
  },
  {
   "cell_type": "markdown",
   "metadata": {
    "id": "qC_2xcZAID33"
   },
   "source": [
    "# Conclusion"
   ]
  },
  {
   "cell_type": "markdown",
   "metadata": {
    "id": "2cTg2noXLEhp"
   },
   "source": [
    "As we can see from results obtained from 2 experiments using differents texts for scoring statistics: there is no particular difference in volume of training text. In the both cases the number of iterations to find the solution is comparable."
   ]
  },
  {
   "cell_type": "markdown",
   "metadata": {
    "id": "fh-WosJjCuqQ"
   },
   "source": [
    "As we can see the encrypted message is the part of the Dovlatov novel \"The Suitcase (Chemodan)\": \"Я чуть не зарыдал от жалости к себе. Ведь мне тридцать шесть лет. Восемнадцать из них я работаю. Что-то зарабатываю, покупаю. Владею, как мне представлялось, некоторой собственностью. И в результате – один чемодан. Причем довольно скромного размера. Выходит, я нищий? Как же это получилось?!\"\n",
    "\n",
    "\n"
   ]
  }
 ]
}